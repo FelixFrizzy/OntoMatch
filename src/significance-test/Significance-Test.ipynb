{
 "cells": [
  {
   "cell_type": "code",
   "execution_count": null,
   "id": "surprising-accounting",
   "metadata": {},
   "outputs": [],
   "source": [
    "#conference dataset\n"
   ]
  },
  {
   "cell_type": "code",
   "execution_count": 1,
   "id": "intellectual-network",
   "metadata": {},
   "outputs": [],
   "source": [
    "#libraries\n",
    "import pandas as pd\n",
    "import os\n",
    "from scipy import stats"
   ]
  },
  {
   "cell_type": "code",
   "execution_count": 2,
   "id": "cross-respect",
   "metadata": {},
   "outputs": [],
   "source": [
    "def run_t_test(sample_1, sample_2, prompt_1, prompt_2):\n",
    "    \"HO: There is no significance between sample_1 and sample_2\"\n",
    "    \"H1: There is a significance between sample_1 and sample_2\"\n",
    "    \"Significance level (alpha): 0.1 (10%)\"\n",
    "    t_value, p_value = stats.ttest_ind(sample_1, sample_2)\n",
    "\n",
    "    print('Test statistic is %f'%float(\"{:.6f}\".format(t_value)))\n",
    "\n",
    "    print('p-value for two tailed test is %f'%p_value)\n",
    "\n",
    "    alpha = 0.1\n",
    "\n",
    "    if p_value<=alpha:\n",
    "\n",
    "        print('Conclusion','n','Since p-value(=%f)'%p_value,'<','alpha(=%.2f)'%alpha,'''We reject the null hypothesis H0. So we conclude that the \n",
    "\n",
    "    effect of '''+prompt_1+''' and '''+prompt_2+'''  are not equal i.e., μ1 = μ2 at %.2f level of significance.'''%alpha)\n",
    "    else:\n",
    "        print('Conclusion','n','Since p-value(=%f)'%p_value,'>','alpha(=%.2f)'%alpha,'We do not reject the null hypothesis H0.')\n",
    "    return p_value\n"
   ]
  },
  {
   "cell_type": "code",
   "execution_count": 3,
   "id": "established-jefferson",
   "metadata": {},
   "outputs": [],
   "source": [
    "#paths\n",
    "# experiments = {\"no_verb_rw_1\": \"/Users/sefika/OntoMatch/results/MELT_Results/conference/NoVerbalizationTriplesInNiceFormat/rw;khop1;NoVerbalizationNiceFormat/testCasePerformanceCube.csv\",\n",
    "#               \"no_verb_rw_2\": \"/Users/sefika/OntoMatch/results/MELT_Results/conference/NoVerbalizationTriplesInNiceFormat/rw;khop2;NoVerbalizationNiceFormat/testCasePerformanceCube.csv\",\n",
    "#               \"no_verb_rt_1\": \"/Users/sefika/OntoMatch/results/MELT_Results/conference/NoVerbalizationTriplesInNiceFormat/rt;khop1;NoVerbalizationNiceFormat/testCasePerformanceCube.csv\",\n",
    "#               \"no_verb_rt_2\": \"/Users/sefika/OntoMatch/results/MELT_Results/conference/NoVerbalizationTriplesInNiceFormat/rt;khop2;NoVerbalizationNiceFormat/testCasePerformanceCube.csv\"\n",
    "#               }\n",
    "\n"
   ]
  },
  {
   "cell_type": "code",
   "execution_count": 4,
   "id": "norwegian-today",
   "metadata": {},
   "outputs": [],
   "source": [
    "experiments = {\"rw_1\": \"/Users/sefika/OntoMatch/results/MELT_Results/conference/WithVerbalization/rw;khop1/testCasePerformanceCube.csv\",\n",
    "              \"rw_2\": \"/Users/sefika/OntoMatch/results/MELT_Results/conference/WithVerbalization/rw;khop2/testCasePerformanceCube.csv\",\n",
    "              \"rt_1\": \"/Users/sefika/OntoMatch/results/MELT_Results/conference/WithVerbalization/rt;khop1/testCasePerformanceCube.csv\",\n",
    "              \"rt_2\": \"/Users/sefika/OntoMatch/results/MELT_Results/conference/WithVerbalization/rt;khop2/testCasePerformanceCube.csv\"\n",
    "              }\n"
   ]
  },
  {
   "cell_type": "code",
   "execution_count": 5,
   "id": "radical-violation",
   "metadata": {},
   "outputs": [],
   "source": [
    "no_verb_rw_1_df = pd.read_csv(experiments[\"rw_1\"])\n",
    "no_verb_rw_2_df = pd.read_csv(experiments[\"rw_2\"])\n",
    "no_verb_rt_1_df = pd.read_csv(experiments[\"rt_1\"])\n",
    "no_verb_rt_2_df = pd.read_csv(experiments[\"rt_2\"])"
   ]
  },
  {
   "cell_type": "code",
   "execution_count": 6,
   "id": "insured-trout",
   "metadata": {},
   "outputs": [],
   "source": [
    "matchers = [\"/home/juliansampels/melt/examples/externalPythonMatcherSeals rw0/target/external-python-matcher-seals-1.0-seals.zip\",\n",
    "            \"/home/juliansampels/melt/examples/externalPythonMatcherSeals rw1/target/external-python-matcher-seals-1.0-seals.zip\",\n",
    "            \"/home/juliansampels/melt/examples/externalPythonMatcherSeals rw2/target/external-python-matcher-seals-1.0-seals.zip\",\n",
    "            \"/home/juliansampels/melt/examples/externalPythonMatcherSeals rw3/target/external-python-matcher-seals-1.0-seals.zip\",\n",
    "       \n",
    "           ]"
   ]
  },
  {
   "cell_type": "code",
   "execution_count": 7,
   "id": "informative-mongolia",
   "metadata": {},
   "outputs": [],
   "source": [
    "selected_columns = [\"Track\", \"Test Case\", \"Type\", \"Matcher\", \"F1\", \"Recall (R)\"]"
   ]
  },
  {
   "cell_type": "code",
   "execution_count": 8,
   "id": "eleven-latino",
   "metadata": {},
   "outputs": [],
   "source": [
    "no_verb_rw_1_df = no_verb_rw_1_df[selected_columns]\n",
    "no_verb_rw_1_df = no_verb_rw_1_df[no_verb_rw_1_df.Type == \"CLASSES\"]\n",
    "no_verb_rw_1_df_rw_0 = no_verb_rw_1_df[no_verb_rw_1_df.Matcher == matchers[0]]\n",
    "no_verb_rw_1_df_rw_0_f1 = no_verb_rw_1_df_rw_0[\"F1\"]\n",
    "one_rw = no_verb_rw_1_df[no_verb_rw_1_df.Matcher == matchers[0]].F1\n",
    "two_rw = no_verb_rw_1_df[no_verb_rw_1_df.Matcher == matchers[1]].F1\n",
    "three_rw = no_verb_rw_1_df[no_verb_rw_1_df.Matcher == matchers[2]].F1\n",
    "four_rw = no_verb_rw_1_df[no_verb_rw_1_df.Matcher == matchers[3]].F1"
   ]
  },
  {
   "cell_type": "code",
   "execution_count": 9,
   "id": "specific-significance",
   "metadata": {},
   "outputs": [],
   "source": [
    "no_verb_rt_1_df = no_verb_rt_1_df[selected_columns]\n",
    "no_verb_rt_1_df = no_verb_rt_1_df[no_verb_rt_1_df.Type == \"CLASSES\"]\n",
    "no_verb_rt_1_df_rt_0 = no_verb_rt_1_df[no_verb_rt_1_df.Matcher == matchers[0]]\n",
    "no_verb_rt_1_df_rt_0_f1 = no_verb_rt_1_df_rt_0[\"F1\"]\n",
    "one = no_verb_rt_1_df[no_verb_rt_1_df.Matcher == matchers[0]].F1\n",
    "two = no_verb_rt_1_df[no_verb_rt_1_df.Matcher == matchers[1]].F1\n",
    "three = no_verb_rt_1_df[no_verb_rt_1_df.Matcher == matchers[2]].F1\n",
    "four = no_verb_rt_1_df[no_verb_rt_1_df.Matcher == matchers[3]].F1"
   ]
  },
  {
   "cell_type": "code",
   "execution_count": 10,
   "id": "fuzzy-parade",
   "metadata": {},
   "outputs": [
    {
     "name": "stdout",
     "output_type": "stream",
     "text": [
      "Test statistic is 0.072883\n",
      "p-value for two tailed test is 0.942262\n",
      "Conclusion n Since p-value(=0.942262) > alpha(=0.10) We do not reject the null hypothesis H0.\n",
      "Prompts Random Tree for NeighbourRange 1\n",
      "==========\n",
      "Test statistic is 1.774394\n",
      "p-value for two tailed test is 0.083610\n",
      "Conclusion n Since p-value(=0.083610) < alpha(=0.10) We reject the null hypothesis H0. So we conclude that the \n",
      "\n",
      "    effect of Prompt 1 and Prompt 4  are not equal i.e., μ1 = μ2 at 0.10 level of significance.\n",
      "==========\n",
      "Test statistic is 1.202441\n",
      "p-value for two tailed test is 0.236263\n",
      "Conclusion n Since p-value(=0.236263) > alpha(=0.10) We do not reject the null hypothesis H0.\n",
      "==========\n",
      "Test statistic is 1.177385\n",
      "p-value for two tailed test is 0.246000\n",
      "Conclusion n Since p-value(=0.246000) > alpha(=0.10) We do not reject the null hypothesis H0.\n"
     ]
    },
    {
     "data": {
      "text/plain": [
       "0.24600024770136517"
      ]
     },
     "execution_count": 10,
     "metadata": {},
     "output_type": "execute_result"
    }
   ],
   "source": [
    "run_t_test(no_verb_rt_1_df_rt_0_f1, no_verb_rw_1_df_rw_0_f1, \"Random Tree\", \"Random Walk\" )\n",
    "print(\"Prompts Random Tree for NeighbourRange 1\")\n",
    "print(\"==========\")\n",
    "run_t_test(one, four, \"Prompt 1\", \"Prompt 4\")\n",
    "print(\"==========\")\n",
    "run_t_test(two, four, \"Prompt 2\", \"Prompt 4\")\n",
    "print(\"==========\")\n",
    "run_t_test(three, four, \"Prompt 3\", \"Prompt 4\")"
   ]
  },
  {
   "cell_type": "code",
   "execution_count": 11,
   "id": "asian-death",
   "metadata": {},
   "outputs": [
    {
     "name": "stdout",
     "output_type": "stream",
     "text": [
      "Prompts Random Walk for NeighbourRange 1\n",
      "==========\n",
      "Test statistic is 1.714640\n",
      "p-value for two tailed test is 0.094151\n",
      "Conclusion n Since p-value(=0.094151) < alpha(=0.10) We reject the null hypothesis H0. So we conclude that the \n",
      "\n",
      "    effect of Prompt 1 and Prompt 4  are not equal i.e., μ1 = μ2 at 0.10 level of significance.\n",
      "==========\n",
      "Test statistic is 1.639267\n",
      "p-value for two tailed test is 0.109000\n",
      "Conclusion n Since p-value(=0.109000) > alpha(=0.10) We do not reject the null hypothesis H0.\n",
      "==========\n",
      "Test statistic is 1.363225\n",
      "p-value for two tailed test is 0.180436\n",
      "Conclusion n Since p-value(=0.180436) > alpha(=0.10) We do not reject the null hypothesis H0.\n"
     ]
    },
    {
     "data": {
      "text/plain": [
       "0.18043604165491053"
      ]
     },
     "execution_count": 11,
     "metadata": {},
     "output_type": "execute_result"
    }
   ],
   "source": [
    "print(\"Prompts Random Walk for NeighbourRange 1\")\n",
    "print(\"==========\")\n",
    "run_t_test(one_rw, four_rw, \"Prompt 1\", \"Prompt 4\")\n",
    "print(\"==========\")\n",
    "run_t_test(two_rw, four_rw, \"Prompt 2\", \"Prompt 4\")\n",
    "print(\"==========\")\n",
    "run_t_test(three_rw, four_rw, \"Prompt 3\", \"Prompt 4\")"
   ]
  },
  {
   "cell_type": "code",
   "execution_count": 12,
   "id": "filled-xerox",
   "metadata": {},
   "outputs": [],
   "source": [
    "no_verb_rw_2_df = no_verb_rw_2_df[selected_columns]\n",
    "no_verb_rw_2_df = no_verb_rw_2_df[no_verb_rw_2_df.Type == \"CLASSES\"]\n",
    "no_verb_rw_2_df_rw_0 = no_verb_rw_2_df[no_verb_rw_2_df.Matcher == matchers[0]]\n",
    "no_verb_rw_2_df_rw_0_f1 = no_verb_rw_2_df_rw_0[\"F1\"]\n",
    "one_rw = no_verb_rw_2_df[no_verb_rw_2_df.Matcher == matchers[0]].F1\n",
    "two_rw = no_verb_rw_2_df[no_verb_rw_2_df.Matcher == matchers[1]].F1\n",
    "three_rw = no_verb_rw_2_df[no_verb_rw_2_df.Matcher == matchers[2]].F1\n",
    "four_rw = no_verb_rw_2_df[no_verb_rw_2_df.Matcher == matchers[3]].F1"
   ]
  },
  {
   "cell_type": "code",
   "execution_count": 13,
   "id": "mechanical-salad",
   "metadata": {},
   "outputs": [],
   "source": [
    "no_verb_rt_2_df = no_verb_rt_2_df[selected_columns]\n",
    "no_verb_rt_2_df = no_verb_rt_2_df[no_verb_rt_2_df.Type == \"CLASSES\"]\n",
    "no_verb_rt_2_df_rt_0 = no_verb_rt_2_df[no_verb_rt_2_df.Matcher == matchers[0]]\n",
    "no_verb_rt_2_df_rt_0_f1 = no_verb_rt_2_df_rt_0[\"F1\"]\n",
    "one = no_verb_rt_2_df[no_verb_rt_2_df.Matcher == matchers[0]].F1\n",
    "two = no_verb_rt_2_df[no_verb_rt_2_df.Matcher == matchers[1]].F1\n",
    "three = no_verb_rt_2_df[no_verb_rt_2_df.Matcher == matchers[2]].F1\n",
    "four = no_verb_rt_2_df[no_verb_rt_2_df.Matcher == matchers[3]].F1"
   ]
  },
  {
   "cell_type": "code",
   "execution_count": 14,
   "id": "heard-japan",
   "metadata": {},
   "outputs": [
    {
     "name": "stdout",
     "output_type": "stream",
     "text": [
      "Test statistic is 0.483377\n",
      "p-value for two tailed test is 0.631464\n",
      "Conclusion n Since p-value(=0.631464) > alpha(=0.10) We do not reject the null hypothesis H0.\n",
      "Prompts Random Tree for NeighbourRange 2\n",
      "==========\n",
      "Test statistic is 3.164293\n",
      "p-value for two tailed test is 0.002968\n",
      "Conclusion n Since p-value(=0.002968) < alpha(=0.10) We reject the null hypothesis H0. So we conclude that the \n",
      "\n",
      "    effect of Prompt 1 and Prompt 4  are not equal i.e., μ1 = μ2 at 0.10 level of significance.\n",
      "==========\n",
      "Test statistic is 2.618120\n",
      "p-value for two tailed test is 0.012425\n",
      "Conclusion n Since p-value(=0.012425) < alpha(=0.10) We reject the null hypothesis H0. So we conclude that the \n",
      "\n",
      "    effect of Prompt 2 and Prompt 4  are not equal i.e., μ1 = μ2 at 0.10 level of significance.\n",
      "==========\n",
      "Test statistic is 2.788180\n",
      "p-value for two tailed test is 0.008073\n",
      "Conclusion n Since p-value(=0.008073) < alpha(=0.10) We reject the null hypothesis H0. So we conclude that the \n",
      "\n",
      "    effect of Prompt 3 and Prompt 4  are not equal i.e., μ1 = μ2 at 0.10 level of significance.\n"
     ]
    },
    {
     "data": {
      "text/plain": [
       "0.008073426756911388"
      ]
     },
     "execution_count": 14,
     "metadata": {},
     "output_type": "execute_result"
    }
   ],
   "source": [
    "run_t_test(no_verb_rt_2_df_rt_0_f1, no_verb_rw_2_df_rw_0_f1, \"Random Tree\", \"Random Walk\" )\n",
    "print(\"Prompts Random Tree for NeighbourRange 2\")\n",
    "print(\"==========\")\n",
    "run_t_test(one, four, \"Prompt 1\", \"Prompt 4\")\n",
    "print(\"==========\")\n",
    "run_t_test(two, four, \"Prompt 2\", \"Prompt 4\")\n",
    "print(\"==========\")\n",
    "run_t_test(three, four, \"Prompt 3\", \"Prompt 4\")"
   ]
  },
  {
   "cell_type": "markdown",
   "id": "altered-summary",
   "metadata": {},
   "source": []
  },
  {
   "cell_type": "code",
   "execution_count": 15,
   "id": "freelance-textbook",
   "metadata": {},
   "outputs": [
    {
     "name": "stdout",
     "output_type": "stream",
     "text": [
      "Prompts Random Walk for NeighbourRange 2\n",
      "==========\n",
      "Test statistic is 2.221179\n",
      "p-value for two tailed test is 0.032064\n",
      "Conclusion n Since p-value(=0.032064) < alpha(=0.10) We reject the null hypothesis H0. So we conclude that the \n",
      "\n",
      "    effect of Prompt 1 and Prompt 4  are not equal i.e., μ1 = μ2 at 0.10 level of significance.\n",
      "==========\n",
      "Test statistic is 2.758106\n",
      "p-value for two tailed test is 0.008722\n",
      "Conclusion n Since p-value(=0.008722) < alpha(=0.10) We reject the null hypothesis H0. So we conclude that the \n",
      "\n",
      "    effect of Prompt 2 and Prompt 4  are not equal i.e., μ1 = μ2 at 0.10 level of significance.\n",
      "==========\n",
      "Test statistic is 2.443130\n",
      "p-value for two tailed test is 0.019070\n",
      "Conclusion n Since p-value(=0.019070) < alpha(=0.10) We reject the null hypothesis H0. So we conclude that the \n",
      "\n",
      "    effect of Prompt 3 and Prompt 4  are not equal i.e., μ1 = μ2 at 0.10 level of significance.\n"
     ]
    },
    {
     "data": {
      "text/plain": [
       "0.01906966557612308"
      ]
     },
     "execution_count": 15,
     "metadata": {},
     "output_type": "execute_result"
    }
   ],
   "source": [
    "print(\"Prompts Random Walk for NeighbourRange 2\")\n",
    "print(\"==========\")\n",
    "run_t_test(one_rw, four_rw, \"Prompt 1\", \"Prompt 4\")\n",
    "print(\"==========\")\n",
    "run_t_test(two_rw, four_rw, \"Prompt 2\", \"Prompt 4\")\n",
    "print(\"==========\")\n",
    "run_t_test(three_rw, four_rw, \"Prompt 3\", \"Prompt 4\")"
   ]
  },
  {
   "cell_type": "code",
   "execution_count": 16,
   "id": "approved-edgar",
   "metadata": {},
   "outputs": [],
   "source": [
    "no_verb_rw_2_df_rw_0 = no_verb_rw_2_df[no_verb_rw_2_df.Matcher == matchers[0]].F1\n",
    "no_verb_rw_2_df_rw_1 = no_verb_rw_2_df[no_verb_rw_2_df.Matcher == matchers[1]].F1\n",
    "no_verb_rw_2_df_rw_2 = no_verb_rw_2_df[no_verb_rw_2_df.Matcher == matchers[2]].F1\n",
    "no_verb_rw_2_df_rw_3 = no_verb_rw_2_df[no_verb_rw_2_df.Matcher == matchers[3]].F1"
   ]
  },
  {
   "cell_type": "code",
   "execution_count": 17,
   "id": "fitted-relaxation",
   "metadata": {},
   "outputs": [],
   "source": [
    "no_verb_rt_2_df_rt_0 = no_verb_rt_2_df[no_verb_rt_2_df.Matcher == matchers[0]].F1\n",
    "no_verb_rt_2_df_rt_1 = no_verb_rt_2_df[no_verb_rt_2_df.Matcher == matchers[1]].F1\n",
    "no_verb_rt_2_df_rt_2 = no_verb_rt_2_df[no_verb_rt_2_df.Matcher == matchers[2]].F1\n",
    "no_verb_rt_2_df_rt_3 = no_verb_rt_2_df[no_verb_rt_2_df.Matcher == matchers[3]].F1"
   ]
  },
  {
   "cell_type": "code",
   "execution_count": 18,
   "id": "useful-carter",
   "metadata": {},
   "outputs": [
    {
     "name": "stdout",
     "output_type": "stream",
     "text": [
      "Test statistic is -0.483377\n",
      "p-value for two tailed test is 0.631464\n",
      "Conclusion n Since p-value(=0.631464) > alpha(=0.10) We do not reject the null hypothesis H0.\n",
      "------\n",
      "Test statistic is 0.566100\n",
      "p-value for two tailed test is 0.574488\n",
      "Conclusion n Since p-value(=0.574488) > alpha(=0.10) We do not reject the null hypothesis H0.\n",
      "------\n",
      "Test statistic is 0.215684\n",
      "p-value for two tailed test is 0.830330\n",
      "Conclusion n Since p-value(=0.830330) > alpha(=0.10) We do not reject the null hypothesis H0.\n",
      "------\n",
      "Test statistic is 0.302339\n",
      "p-value for two tailed test is 0.763960\n",
      "Conclusion n Since p-value(=0.763960) > alpha(=0.10) We do not reject the null hypothesis H0.\n",
      "------\n"
     ]
    }
   ],
   "source": [
    "run_t_test(no_verb_rw_2_df_rw_0, no_verb_rt_2_df_rt_0, \"Random Tree-1\", \"Random Walk-1\" )\n",
    "print(\"------\")\n",
    "run_t_test(no_verb_rw_2_df_rw_1, no_verb_rt_2_df_rt_1, \"Random Tree-2\", \"Random Walk-2\" )\n",
    "print(\"------\")\n",
    "run_t_test(no_verb_rw_2_df_rw_2, no_verb_rt_2_df_rt_2, \"Random Tree-3\", \"Random Walk-3\" )\n",
    "print(\"------\")\n",
    "run_t_test(no_verb_rw_2_df_rw_3, no_verb_rt_2_df_rt_3, \"Random Tree-4\", \"Random Walk-4\" )\n",
    "print(\"------\")"
   ]
  },
  {
   "cell_type": "code",
   "execution_count": null,
   "id": "checked-woman",
   "metadata": {},
   "outputs": [],
   "source": []
  }
 ],
 "metadata": {
  "kernelspec": {
   "display_name": "Python 3",
   "language": "python",
   "name": "python3"
  },
  "language_info": {
   "codemirror_mode": {
    "name": "ipython",
    "version": 3
   },
   "file_extension": ".py",
   "mimetype": "text/x-python",
   "name": "python",
   "nbconvert_exporter": "python",
   "pygments_lexer": "ipython3",
   "version": "3.7.7"
  }
 },
 "nbformat": 4,
 "nbformat_minor": 5
}
